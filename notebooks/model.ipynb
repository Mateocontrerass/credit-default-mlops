{
 "cells": [
  {
   "cell_type": "code",
   "execution_count": 9,
   "id": "f6480df6",
   "metadata": {},
   "outputs": [
    {
     "name": "stdout",
     "output_type": "stream",
     "text": [
      "(150000, 11)\n",
      "(101503, 11)\n",
      "Accuracy score of 0.9971922012157276\n"
     ]
    },
    {
     "name": "stderr",
     "output_type": "stream",
     "text": [
      "/home/mateo/ml-projects/mlops-course/project/project_mlops/lib/python3.12/site-packages/sklearn/linear_model/_logistic.py:470: ConvergenceWarning: lbfgs failed to converge after 100 iteration(s) (status=1):\n",
      "STOP: TOTAL NO. OF ITERATIONS REACHED LIMIT\n",
      "\n",
      "Increase the number of iterations to improve the convergence (max_iter=100).\n",
      "You might also want to scale the data as shown in:\n",
      "    https://scikit-learn.org/stable/modules/preprocessing.html\n",
      "Please also refer to the documentation for alternative solver options:\n",
      "    https://scikit-learn.org/stable/modules/linear_model.html#logistic-regression\n",
      "  n_iter_i = _check_optimize_result(\n"
     ]
    }
   ],
   "source": [
    "import os\n",
    "import subprocess\n",
    "import polars as pl\n",
    "from sklearn.linear_model import LogisticRegression\n",
    "from sklearn.metrics import accuracy_score\n",
    "import pickle\n",
    "import numpy as np\n",
    "\n",
    "DATA_DIR = \"../data\"\n",
    "\n",
    "\n",
    "if not os.path.exists(\"../data/cs-training.csv\") or not os.path.exists(\"../data/cs-test.csv\"):\n",
    "    print(\"Downloading data...\")\n",
    "    # Set paths\n",
    "    print(os.getcwd())\n",
    "    os.environ[\"KAGGLE_CONFIG_DIR\"] = \"/home/mateo/.kaggle\"\n",
    "\n",
    "    # Download and unzip\n",
    "    os.makedirs(DATA_DIR, exist_ok=True)\n",
    "    !kaggle competitions download -c GiveMeSomeCredit -p {DATA_DIR}\n",
    "    !unzip -o {DATA_DIR}/GiveMeSomeCredit.zip -d {DATA_DIR}\n",
    "\n",
    "\n",
    "# Load data\n",
    "df_train = pl.read_csv(f\"{DATA_DIR}/cs-training.csv\")\n",
    "df_test = pl.read_csv(f\"{DATA_DIR}/cs-test.csv\")\n",
    "\n",
    "df_train = df_train.select(df_train.columns[1:])\n",
    "df_test = df_test.select(df_test.columns[1:])\n",
    "\n",
    "\n",
    "def preprocessing(df):\n",
    "    \n",
    "    df = df.with_columns([\n",
    "        pl.when(\n",
    "            pl.col(\"MonthlyIncome\").is_null() | (pl.col(\"MonthlyIncome\") == \"NA\")\n",
    "        ).then(0).otherwise(pl.col(\"MonthlyIncome\")).cast(pl.Int32).alias(\"MonthlyIncome\"),\n",
    "        pl.when(\n",
    "            pl.col(\"NumberOfDependents\").is_null() | (pl.col(\"NumberOfDependents\") == \"NA\")\n",
    "        ).then(0).otherwise(pl.col(\"NumberOfDependents\")).cast(pl.Int32).alias(\"NumberOfDependents\"),\n",
    "        pl.col(\"SeriousDlqin2yrs\").fill_null(0).cast(pl.Int32).alias(\"SeriousDlqin2yrs\")\n",
    "\n",
    "    ])\n",
    "\n",
    "    df = df.fill_null(0)  \n",
    "\n",
    "\n",
    "    print(df.shape)\n",
    "    x = df.drop(\"SeriousDlqin2yrs\").to_numpy()\n",
    "    y = df[\"SeriousDlqin2yrs\"].to_numpy()\n",
    "\n",
    "    return x,y\n",
    "\n",
    "def train(x,y):\n",
    "\n",
    "    lr = LogisticRegression()\n",
    "    lr.fit(X=x, y=y)\n",
    "\n",
    "    return lr\n",
    "\n",
    "def predict(model, df):\n",
    "    y_pred = model.predict(df) \n",
    "    return y_pred\n",
    "\n",
    "def evaluate( y_pred, y_real):\n",
    "    accuracy = accuracy_score(y_real, y_pred)\n",
    "    return print(f'Accuracy score of {accuracy}')\n",
    "\n",
    "\n",
    "def save_model(model, filename=\"../models/model_lr.pkl\"):\n",
    "    with open(filename, \"wb\") as f:\n",
    "        pickle.dump(model, f)\n",
    "\n",
    "x_train, y_train = preprocessing(df_train)\n",
    "x_test, y_test = preprocessing(df_test)\n",
    "\n",
    "lr = train(x_train,y_train)\n",
    "y_pred = predict(lr,x_test)\n",
    "evaluate(y_pred, y_test)\n",
    "save_model(lr)\n"
   ]
  },
  {
   "cell_type": "code",
   "execution_count": 10,
   "id": "f1dcff22",
   "metadata": {},
   "outputs": [
    {
     "data": {
      "text/html": [
       "<div><style>\n",
       ".dataframe > thead > tr,\n",
       ".dataframe > tbody > tr {\n",
       "  text-align: right;\n",
       "  white-space: pre-wrap;\n",
       "}\n",
       "</style>\n",
       "<small>shape: (150_000, 11)</small><table border=\"1\" class=\"dataframe\"><thead><tr><th>SeriousDlqin2yrs</th><th>RevolvingUtilizationOfUnsecuredLines</th><th>age</th><th>NumberOfTime30-59DaysPastDueNotWorse</th><th>DebtRatio</th><th>MonthlyIncome</th><th>NumberOfOpenCreditLinesAndLoans</th><th>NumberOfTimes90DaysLate</th><th>NumberRealEstateLoansOrLines</th><th>NumberOfTime60-89DaysPastDueNotWorse</th><th>NumberOfDependents</th></tr><tr><td>i64</td><td>f64</td><td>i64</td><td>i64</td><td>f64</td><td>str</td><td>i64</td><td>i64</td><td>i64</td><td>i64</td><td>str</td></tr></thead><tbody><tr><td>1</td><td>0.766127</td><td>45</td><td>2</td><td>0.802982</td><td>&quot;9120&quot;</td><td>13</td><td>0</td><td>6</td><td>0</td><td>&quot;2&quot;</td></tr><tr><td>0</td><td>0.957151</td><td>40</td><td>0</td><td>0.121876</td><td>&quot;2600&quot;</td><td>4</td><td>0</td><td>0</td><td>0</td><td>&quot;1&quot;</td></tr><tr><td>0</td><td>0.65818</td><td>38</td><td>1</td><td>0.085113</td><td>&quot;3042&quot;</td><td>2</td><td>1</td><td>0</td><td>0</td><td>&quot;0&quot;</td></tr><tr><td>0</td><td>0.23381</td><td>30</td><td>0</td><td>0.03605</td><td>&quot;3300&quot;</td><td>5</td><td>0</td><td>0</td><td>0</td><td>&quot;0&quot;</td></tr><tr><td>0</td><td>0.9072394</td><td>49</td><td>1</td><td>0.024926</td><td>&quot;63588&quot;</td><td>7</td><td>0</td><td>1</td><td>0</td><td>&quot;0&quot;</td></tr><tr><td>&hellip;</td><td>&hellip;</td><td>&hellip;</td><td>&hellip;</td><td>&hellip;</td><td>&hellip;</td><td>&hellip;</td><td>&hellip;</td><td>&hellip;</td><td>&hellip;</td><td>&hellip;</td></tr><tr><td>0</td><td>0.040674</td><td>74</td><td>0</td><td>0.225131</td><td>&quot;2100&quot;</td><td>4</td><td>0</td><td>1</td><td>0</td><td>&quot;0&quot;</td></tr><tr><td>0</td><td>0.299745</td><td>44</td><td>0</td><td>0.716562</td><td>&quot;5584&quot;</td><td>4</td><td>0</td><td>1</td><td>0</td><td>&quot;2&quot;</td></tr><tr><td>0</td><td>0.246044</td><td>58</td><td>0</td><td>3870.0</td><td>&quot;NA&quot;</td><td>18</td><td>0</td><td>1</td><td>0</td><td>&quot;0&quot;</td></tr><tr><td>0</td><td>0.0</td><td>30</td><td>0</td><td>0.0</td><td>&quot;5716&quot;</td><td>4</td><td>0</td><td>0</td><td>0</td><td>&quot;0&quot;</td></tr><tr><td>0</td><td>0.850283</td><td>64</td><td>0</td><td>0.249908</td><td>&quot;8158&quot;</td><td>8</td><td>0</td><td>2</td><td>0</td><td>&quot;0&quot;</td></tr></tbody></table></div>"
      ],
      "text/plain": [
       "shape: (150_000, 11)\n",
       "┌────────────┬────────────┬─────┬────────────┬───┬────────────┬────────────┬───────────┬───────────┐\n",
       "│ SeriousDlq ┆ RevolvingU ┆ age ┆ NumberOfTi ┆ … ┆ NumberOfTi ┆ NumberReal ┆ NumberOfT ┆ NumberOfD │\n",
       "│ in2yrs     ┆ tilization ┆ --- ┆ me30-59Day ┆   ┆ mes90DaysL ┆ EstateLoan ┆ ime60-89D ┆ ependents │\n",
       "│ ---        ┆ OfUnsecure ┆ i64 ┆ sPastDueNo ┆   ┆ ate        ┆ sOrLines   ┆ aysPastDu ┆ ---       │\n",
       "│ i64        ┆ …          ┆     ┆ …          ┆   ┆ ---        ┆ ---        ┆ eNo…      ┆ str       │\n",
       "│            ┆ ---        ┆     ┆ ---        ┆   ┆ i64        ┆ i64        ┆ ---       ┆           │\n",
       "│            ┆ f64        ┆     ┆ i64        ┆   ┆            ┆            ┆ i64       ┆           │\n",
       "╞════════════╪════════════╪═════╪════════════╪═══╪════════════╪════════════╪═══════════╪═══════════╡\n",
       "│ 1          ┆ 0.766127   ┆ 45  ┆ 2          ┆ … ┆ 0          ┆ 6          ┆ 0         ┆ 2         │\n",
       "│ 0          ┆ 0.957151   ┆ 40  ┆ 0          ┆ … ┆ 0          ┆ 0          ┆ 0         ┆ 1         │\n",
       "│ 0          ┆ 0.65818    ┆ 38  ┆ 1          ┆ … ┆ 1          ┆ 0          ┆ 0         ┆ 0         │\n",
       "│ 0          ┆ 0.23381    ┆ 30  ┆ 0          ┆ … ┆ 0          ┆ 0          ┆ 0         ┆ 0         │\n",
       "│ 0          ┆ 0.9072394  ┆ 49  ┆ 1          ┆ … ┆ 0          ┆ 1          ┆ 0         ┆ 0         │\n",
       "│ …          ┆ …          ┆ …   ┆ …          ┆ … ┆ …          ┆ …          ┆ …         ┆ …         │\n",
       "│ 0          ┆ 0.040674   ┆ 74  ┆ 0          ┆ … ┆ 0          ┆ 1          ┆ 0         ┆ 0         │\n",
       "│ 0          ┆ 0.299745   ┆ 44  ┆ 0          ┆ … ┆ 0          ┆ 1          ┆ 0         ┆ 2         │\n",
       "│ 0          ┆ 0.246044   ┆ 58  ┆ 0          ┆ … ┆ 0          ┆ 1          ┆ 0         ┆ 0         │\n",
       "│ 0          ┆ 0.0        ┆ 30  ┆ 0          ┆ … ┆ 0          ┆ 0          ┆ 0         ┆ 0         │\n",
       "│ 0          ┆ 0.850283   ┆ 64  ┆ 0          ┆ … ┆ 0          ┆ 2          ┆ 0         ┆ 0         │\n",
       "└────────────┴────────────┴─────┴────────────┴───┴────────────┴────────────┴───────────┴───────────┘"
      ]
     },
     "execution_count": 10,
     "metadata": {},
     "output_type": "execute_result"
    }
   ],
   "source": [
    "df_train"
   ]
  }
 ],
 "metadata": {
  "kernelspec": {
   "display_name": "project_mlops",
   "language": "python",
   "name": "python3"
  },
  "language_info": {
   "codemirror_mode": {
    "name": "ipython",
    "version": 3
   },
   "file_extension": ".py",
   "mimetype": "text/x-python",
   "name": "python",
   "nbconvert_exporter": "python",
   "pygments_lexer": "ipython3",
   "version": "3.12.3"
  }
 },
 "nbformat": 4,
 "nbformat_minor": 5
}
